{
 "cells": [
  {
   "cell_type": "markdown",
   "metadata": {},
   "source": [
    "There are 2N people a company is planning to interview. \n",
    "\n",
    "The cost of flying the i-th person to city A is costs[i][0], and the cost of flying the i-th person to city B is costs[i][1].\n",
    "\n",
    "Return the minimum cost to fly every person to a city such that exactly N people arrive in each city."
   ]
  },
  {
   "cell_type": "code",
   "execution_count": null,
   "metadata": {},
   "outputs": [],
   "source": [
    "def twoCitySchedCost(costs):\n",
    "    sorted_costs = sorted(costs, key:lambda x: (x[0]-x[1]) )\n",
    "    N = int(len(costs)/2)\n",
    "    cityA = [x[0] for x in sorted_costs[:N]]\n",
    "    cityB = [x[1] for x in sorted_costs[N:]]\n",
    "    \n",
    "    return sum(cityA) + sum(cityB)\n",
    "    "
   ]
  }
 ],
 "metadata": {
  "kernelspec": {
   "display_name": "Python 3",
   "language": "python",
   "name": "python3"
  },
  "language_info": {
   "codemirror_mode": {
    "name": "ipython",
    "version": 3
   },
   "file_extension": ".py",
   "mimetype": "text/x-python",
   "name": "python",
   "nbconvert_exporter": "python",
   "pygments_lexer": "ipython3",
   "version": "3.6.9"
  }
 },
 "nbformat": 4,
 "nbformat_minor": 2
}

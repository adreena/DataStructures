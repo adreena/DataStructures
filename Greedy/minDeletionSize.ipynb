{
 "cells": [
  {
   "cell_type": "markdown",
   "metadata": {},
   "source": [
    "We are given an array A of N lowercase letter strings, all of the same length.\n",
    "Now, we may choose any set of deletion indices, and for each string, we delete all the characters in those indices.\n",
    "For example, if we have an array A = [\"abcdef\",\"uvwxyz\"] and deletion indices {0, 2, 3}, then the final array after deletions is [\"bef\", \"vyz\"], and the remaining columns of A are [\"b\",\"v\"], [\"e\",\"y\"], and [\"f\",\"z\"].  (Formally, the c-th column is [A[0][c], A[1][c], ..., A[A.length-1][c]].)\n",
    "Suppose we chose a set of deletion indices D such that after deletions, each remaining column in A is in non-decreasing sorted order.\n",
    "\n",
    "Return the minimum possible value of D.length.\n",
    "\n",
    "Example:\n",
    "\n",
    "Input: [\"cba\",\"daf\",\"ghi\"]\n",
    "\n",
    "Output: 1"
   ]
  },
  {
   "cell_type": "code",
   "execution_count": null,
   "metadata": {},
   "outputs": [],
   "source": [
    "def minDeletionSize(A):\n",
    "    remove = []\n",
    "    idx = 1\n",
    "    \n",
    "    for idx = 0 in range(len(A[0])):\n",
    "        prev_s = A[0]\n",
    "        for s in range(A[1:])\n",
    "            if ord(prev_s[idx]) > ord(s[idx])\n",
    "                remove.append(idx)\n",
    "                break\n",
    "            prev_s = s\n",
    "    return len(remove)\n",
    "            "
   ]
  }
 ],
 "metadata": {
  "kernelspec": {
   "display_name": "Python 3",
   "language": "python",
   "name": "python3"
  },
  "language_info": {
   "codemirror_mode": {
    "name": "ipython",
    "version": 3
   },
   "file_extension": ".py",
   "mimetype": "text/x-python",
   "name": "python",
   "nbconvert_exporter": "python",
   "pygments_lexer": "ipython3",
   "version": "3.6.9"
  }
 },
 "nbformat": 4,
 "nbformat_minor": 2
}

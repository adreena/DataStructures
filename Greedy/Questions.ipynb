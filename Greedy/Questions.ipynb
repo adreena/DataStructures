{
 "cells": [
  {
   "cell_type": "code",
   "execution_count": 13,
   "metadata": {},
   "outputs": [],
   "source": [
    "import heapq"
   ]
  },
  {
   "cell_type": "code",
   "execution_count": 23,
   "metadata": {},
   "outputs": [],
   "source": [
    "lst = [('a', 8.17), ('b', 1.49), ('c', 2.78), ('d', 4.25), \n",
    "       ('e', 12.70), ('f', 2.23), ('g', 2.02), ('h', 6.09), ('i', 6.97),\n",
    "       ('j',0.15), ('k', 0.77), ('l', 4.03), ('m', 2.41), ('n', 6.75), ('o',7.51),\n",
    "       ('p', 1.93), ('q', 0.10), ('r', 5.99), ('s', 6.33), ('t', 9.06), ('u', 2.76),\n",
    "       ('v', 0.98), ('w', 2.36), ('x', 0.15), ('y', 1.97), ('z', 0.07)]\n",
    "\n",
    "\n",
    "class BTNode:\n",
    "    def __init__(self, value, freq, left_node=None, right_node=None):\n",
    "        self.value = value\n",
    "        self.freq = freq\n",
    "        self.left_node = left_node\n",
    "        self.right_node = right_node\n",
    "        \n",
    "    def __lt__(self, other):\n",
    "        return self.freq< other.freq"
   ]
  },
  {
   "cell_type": "code",
   "execution_count": 32,
   "metadata": {},
   "outputs": [],
   "source": [
    "def HuffmanCode(lst):      \n",
    "    nodes = []\n",
    "    for item in lst:\n",
    "        nodes.append(BTNode(value=item[0], freq=item[1]))\n",
    "\n",
    "    heapq.heapify(nodes)\n",
    "    while len(nodes) >1:\n",
    "        node1= heapq.heappop(nodes)\n",
    "        node2 = heapq.heappop(nodes)\n",
    "        new_node = BTNode('' ,node1.freq + node2.freq, node1, node2)\n",
    "        heapq.heappush(nodes, new_node)\n",
    "\n",
    "    def print_nodes(node, code):\n",
    "        if node.left_node is None and node.right_node is None:\n",
    "            print(node.value, node.freq, code)\n",
    "        if node.left_node:\n",
    "            print_nodes(node.left_node, code+'0')\n",
    "        if node.right_node:\n",
    "            print_nodes(node.right_node, code+'1')\n",
    "    print_nodes(nodes[0], '')"
   ]
  },
  {
   "cell_type": "code",
   "execution_count": 33,
   "metadata": {},
   "outputs": [
    {
     "name": "stdout",
     "output_type": "stream",
     "text": [
      "t 9.06 000\n",
      "v 0.98 001000\n",
      "z 0.07 001001000\n",
      "q 0.1 001001001\n",
      "x 0.15 001001010\n",
      "j 0.15 001001011\n",
      "k 0.77 0010011\n",
      "f 2.23 00101\n",
      "w 2.36 00110\n",
      "m 2.41 00111\n",
      "u 2.76 01000\n",
      "c 2.78 01001\n",
      "r 5.99 0101\n",
      "h 6.09 0110\n",
      "s 6.33 0111\n",
      "e 12.7 100\n",
      "n 6.75 1010\n",
      "i 6.97 1011\n",
      "b 1.49 110000\n",
      "p 1.93 110001\n",
      "y 1.97 110010\n",
      "g 2.02 110011\n",
      "o 7.51 1101\n",
      "a 8.17 1110\n",
      "l 4.03 11110\n",
      "d 4.25 11111\n"
     ]
    }
   ],
   "source": [
    "HuffmanCode(lst)"
   ]
  },
  {
   "cell_type": "code",
   "execution_count": 28,
   "metadata": {},
   "outputs": [
    {
     "name": "stdout",
     "output_type": "stream",
     "text": [
      "t 9.06 000\n",
      "v 0.98 001000\n",
      "z 0.07 001001000\n",
      "q 0.1 001001001\n",
      "x 0.15 001001010\n",
      "j 0.15 001001011\n",
      "k 0.77 0010011\n",
      "f 2.23 00101\n",
      "w 2.36 00110\n",
      "m 2.41 00111\n",
      "u 2.76 01000\n",
      "c 2.78 01001\n",
      "r 5.99 0101\n",
      "h 6.09 0110\n",
      "s 6.33 0111\n",
      "e 12.7 100\n",
      "n 6.75 1010\n",
      "i 6.97 1011\n",
      "b 1.49 110000\n",
      "p 1.93 110001\n",
      "y 1.97 110010\n",
      "g 2.02 110011\n",
      "o 7.51 1101\n",
      "a 8.17 1110\n",
      "l 4.03 11110\n",
      "d 4.25 11111\n"
     ]
    }
   ],
   "source": [
    "print_nodes( top_node, '')"
   ]
  },
  {
   "cell_type": "code",
   "execution_count": null,
   "metadata": {},
   "outputs": [],
   "source": []
  }
 ],
 "metadata": {
  "kernelspec": {
   "display_name": "Python 3",
   "language": "python",
   "name": "python3"
  },
  "language_info": {
   "codemirror_mode": {
    "name": "ipython",
    "version": 3
   },
   "file_extension": ".py",
   "mimetype": "text/x-python",
   "name": "python",
   "nbconvert_exporter": "python",
   "pygments_lexer": "ipython3",
   "version": "3.6.9"
  }
 },
 "nbformat": 4,
 "nbformat_minor": 2
}

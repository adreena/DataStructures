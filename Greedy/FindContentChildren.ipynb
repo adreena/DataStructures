{
 "cells": [
  {
   "cell_type": "markdown",
   "metadata": {},
   "source": [
    "Assume you are an awesome parent and want to give your children some cookies. But, you should give each child at most one cookie. Each child i has a greed factor gi, which is the minimum size of a cookie that the child will be content with; and each cookie j has a size sj. If sj >= gi, we can assign the cookie j to the child i, and the child i will be content. Your goal is to maximize the number of your content children and output the maximum number.\n",
    "\n",
    "Example:\n",
    "\n",
    "Input: [1,2,3], [1,1]\n",
    "\n",
    "Output: 1\n"
   ]
  },
  {
   "cell_type": "code",
   "execution_count": null,
   "metadata": {},
   "outputs": [],
   "source": [
    " def findContentChildren(g, s):\n",
    "        g.sort(reverse=True)\n",
    "        s.sort(reverse=True)\n",
    "        g_idx = 0\n",
    "        s_idx = 0\n",
    "        count =0\n",
    "        while g_idx < len(g) and s_idx < len(s):\n",
    "            if s_idx >= g_idx:\n",
    "                g_idx+=1\n",
    "                s_idx+=1\n",
    "            else:\n",
    "                g_idx+=1"
   ]
  }
 ],
 "metadata": {
  "kernelspec": {
   "display_name": "Python 3",
   "language": "python",
   "name": "python3"
  },
  "language_info": {
   "codemirror_mode": {
    "name": "ipython",
    "version": 3
   },
   "file_extension": ".py",
   "mimetype": "text/x-python",
   "name": "python",
   "nbconvert_exporter": "python",
   "pygments_lexer": "ipython3",
   "version": "3.6.9"
  }
 },
 "nbformat": 4,
 "nbformat_minor": 2
}

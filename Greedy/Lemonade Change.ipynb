{
 "cells": [
  {
   "cell_type": "markdown",
   "metadata": {},
   "source": [
    "At a lemonade stand, each lemonade costs $5. \n",
    "\n",
    "Customers are standing in a queue to buy from you, and order one at a time (in the order specified by bills).\n",
    "\n",
    "Each customer will only buy one lemonade and pay with either a $5, $10, or $20 bill.  \n",
    "\n",
    "You must provide the correct change to each customer, so that the net transaction is that the customer pays $5.\n",
    "\n",
    "Note that you don't have any change in hand at first.\n",
    "\n",
    "Return true if and only if you can provide every customer with correct change."
   ]
  },
  {
   "cell_type": "code",
   "execution_count": null,
   "metadata": {},
   "outputs": [],
   "source": [
    "def lemonadeChange(bills):\n",
    "        available = 0\n",
    "        cash = {'5':0, '10':0,'20':0}\n",
    "        for bill in bills:\n",
    "            ret = bill -5\n",
    "            if ret>0 and available < ret:\n",
    "                return False\n",
    "            else:\n",
    "                match=True\n",
    "                while available >= 0 and ret >0 and match:\n",
    "                    match=False\n",
    "                    if int(ret/20) >0 and cash['20']>0:\n",
    "                        ret -= 20\n",
    "                        cash['20'] -=1\n",
    "                        available -= 20\n",
    "                        match=True\n",
    "                    if int(ret/10) >0 and cash['10']>0:\n",
    "                        ret-=10\n",
    "                        cash['10']-=1\n",
    "                        available -= 10\n",
    "                        match=True\n",
    "                    if int(ret/5>0) and cash['5']>0 :\n",
    "                        ret-=5\n",
    "                        cash['5']-=1\n",
    "                        available -= 5\n",
    "                        match=True\n",
    "                    if ret == 0:\n",
    "                        break\n",
    "                if ret > 0 or available<0:\n",
    "                    return False\n",
    "                \n",
    "                if bill in [5, 10, 20]:\n",
    "                    cash[str(bill)] +=1\n",
    "                else:\n",
    "                    c = bill -5\n",
    "                    cash[str(c)] +=1\n",
    "                available = sum([int(k)*v for k, v in cash.items()])\n",
    "        return True"
   ]
  }
 ],
 "metadata": {
  "kernelspec": {
   "display_name": "Python 3",
   "language": "python",
   "name": "python3"
  },
  "language_info": {
   "codemirror_mode": {
    "name": "ipython",
    "version": 3
   },
   "file_extension": ".py",
   "mimetype": "text/x-python",
   "name": "python",
   "nbconvert_exporter": "python",
   "pygments_lexer": "ipython3",
   "version": "3.6.9"
  }
 },
 "nbformat": 4,
 "nbformat_minor": 2
}

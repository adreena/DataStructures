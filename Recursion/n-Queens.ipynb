{
 "cells": [
  {
   "cell_type": "code",
   "execution_count": 36,
   "metadata": {},
   "outputs": [
    {
     "name": "stdout",
     "output_type": "stream",
     "text": [
      "[1, 0, 0, 0, 0, 0, 0, 0]\n",
      "[0, 0, 0, 0, 0, 0, 1, 0]\n",
      "[0, 0, 0, 0, 1, 0, 0, 0]\n",
      "[0, 0, 0, 0, 0, 0, 0, 1]\n",
      "[0, 1, 0, 0, 0, 0, 0, 0]\n",
      "[0, 0, 0, 1, 0, 0, 0, 0]\n",
      "[0, 0, 0, 0, 0, 1, 0, 0]\n",
      "[0, 0, 1, 0, 0, 0, 0, 0]\n"
     ]
    }
   ],
   "source": [
    "# Generate a board nxn\n",
    "# solve for n-1\n",
    "\n",
    "def print_board(board):\n",
    "    for row in board:\n",
    "        print(row)\n",
    "        \n",
    "def is_safe(board, row, col):\n",
    "    # only check for cells up to this column, becauce we started placing the queens from left side\n",
    "    for i in range(col):\n",
    "        if board[row][i] == 1:\n",
    "            return False\n",
    "    for i, j in zip(range(row, -1, -1), range(col, -1, -1)):\n",
    "        if board[i][j] == 1:\n",
    "            return False\n",
    "    for i, j in zip(range(row, len(board),1), range(col, -1, -1)):\n",
    "        if board[i][j] == 1:\n",
    "            return False\n",
    "    return True\n",
    "\n",
    "\n",
    "def nQueens(board, col):\n",
    "    if col >= len(board):\n",
    "        return True\n",
    "    for row in range(len(board)):\n",
    "        if is_safe(board, row, col):\n",
    "            board[row][col] = 1\n",
    "            if nQueens(board, col+1) == True:\n",
    "                return True\n",
    "            # if not leads to a solution undo the queen\n",
    "            board[row][col] = 0\n",
    "    return False\n",
    "\n",
    "N = 8\n",
    "board = [[0 for i in range(n)] for j in range(n)]\n",
    "# print_board(board)\n",
    "nQueens(board, col=0)\n",
    "print_board(board)\n",
    "\n",
    "\n",
    "'''\n",
    "T(n) = n*T(n-1) - > O(n!) backtracking problem\n",
    "'''"
   ]
  },
  {
   "cell_type": "code",
   "execution_count": null,
   "metadata": {},
   "outputs": [],
   "source": []
  }
 ],
 "metadata": {
  "kernelspec": {
   "display_name": "Python 3",
   "language": "python",
   "name": "python3"
  },
  "language_info": {
   "codemirror_mode": {
    "name": "ipython",
    "version": 3
   },
   "file_extension": ".py",
   "mimetype": "text/x-python",
   "name": "python",
   "nbconvert_exporter": "python",
   "pygments_lexer": "ipython3",
   "version": "3.7.3"
  }
 },
 "nbformat": 4,
 "nbformat_minor": 2
}

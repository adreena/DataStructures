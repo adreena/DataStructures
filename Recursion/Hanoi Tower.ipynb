{
 "cells": [
  {
   "cell_type": "code",
   "execution_count": 5,
   "metadata": {},
   "outputs": [
    {
     "name": "stdout",
     "output_type": "stream",
     "text": [
      "[]\n",
      "[]\n",
      "[4, 3, 2, 1]\n"
     ]
    }
   ],
   "source": [
    "# move A to B  using C\n",
    "# move A to C\n",
    "# move B to C using A\n",
    "\n",
    "A = [4,3,2,1]\n",
    "B = []\n",
    "C = []\n",
    "\n",
    "def transfer(n, source, helper, target):\n",
    "    if n > 0:\n",
    "        transfer(n-1, source, target, helper)\n",
    "        target.append(source.pop())\n",
    "        transfer(n-1, helper, source, target)\n",
    "transfer(len(A), A, B, C)\n",
    "print(A)\n",
    "print(B)\n",
    "print(C)\n",
    "    \n",
    "        \n",
    "        \n",
    "'''\n",
    "Time complexity:\n",
    "T(n) = 2T(n-1) + 1\n",
    "T(n) = 2(2T(n-2) + 1) + 1 = 2*2T(n-2) + 2 + 1\n",
    "T(n) = 2*2*(2*T(n-3) +1) + 2 + 1 = 2^3T(n-3) + 2^2 + 2 +1\n",
    "T(n) = 2^kT(n-k) + 2^(k-1) + ... + 2^2 + 2 + 1\n",
    "k = n -> 2^n + 2^(n-1) + ... 2 + 1 -> O(2^n)\n",
    "'''"
   ]
  },
  {
   "cell_type": "code",
   "execution_count": null,
   "metadata": {},
   "outputs": [],
   "source": []
  }
 ],
 "metadata": {
  "kernelspec": {
   "display_name": "Python 3",
   "language": "python",
   "name": "python3"
  },
  "language_info": {
   "codemirror_mode": {
    "name": "ipython",
    "version": 3
   },
   "file_extension": ".py",
   "mimetype": "text/x-python",
   "name": "python",
   "nbconvert_exporter": "python",
   "pygments_lexer": "ipython3",
   "version": "3.7.3"
  }
 },
 "nbformat": 4,
 "nbformat_minor": 2
}

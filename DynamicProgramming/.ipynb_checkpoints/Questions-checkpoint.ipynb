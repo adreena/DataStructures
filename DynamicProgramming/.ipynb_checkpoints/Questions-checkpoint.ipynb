{
 "cells": [
  {
   "cell_type": "code",
   "execution_count": 1,
   "metadata": {},
   "outputs": [
    {
     "data": {
      "text/plain": [
       "[2, 5]"
      ]
     },
     "execution_count": 1,
     "metadata": {},
     "output_type": "execute_result"
    }
   ],
   "source": [
    "# find max sub array\n",
    "def maxsubarray(arr):\n",
    "    min_sum = 0\n",
    "    max_sum = 0\n",
    "    min_idx = -1\n",
    "    max_idx = 0\n",
    "    total_sum = 0\n",
    "    best_range= [None, None]\n",
    "    for idx, item in enumerate(arr):\n",
    "        total_sum+=item\n",
    "        if total_sum < min_sum:\n",
    "            min_sum = total_sum\n",
    "            min_idx = idx\n",
    "        if total_sum - min_sum > max_sum:\n",
    "            max_sum = total_sum-min_sum\n",
    "            best_range=[min_idx, idx+1]\n",
    "    return best_range\n",
    "\n",
    "x = [10, 20, -100, 50, 400, -1]\n",
    "maxsubarray(x)"
   ]
  },
  {
   "cell_type": "code",
   "execution_count": 53,
   "metadata": {},
   "outputs": [
    {
     "name": "stdout",
     "output_type": "stream",
     "text": [
      "[[1 1 1 1 1 1]\n",
      " [1 2 2 2 2 2]\n",
      " [1 2 3 3 3 3]\n",
      " [1 2 2 3 4 4]\n",
      " [1 2 3 2 3 4]\n",
      " [1 2 3 3 2 3]\n",
      " [1 2 3 4 3 2]]\n"
     ]
    },
    {
     "data": {
      "text/plain": [
       "2"
      ]
     },
     "execution_count": 53,
     "metadata": {},
     "output_type": "execute_result"
    }
   ],
   "source": [
    "import numpy as np\n",
    "def edit_distance(s1, s2):\n",
    "    dp_table = np.array([[0 for i in range(len(s2)+1)] for j in range(len(s1)+1) ])\n",
    "    for i in range(len(s2)+1):\n",
    "        dp_table[0][i] = 1\n",
    "    for i in range(len(s1)+1):\n",
    "        dp_table[i][0] = 1\n",
    "        \n",
    "    for i in range(0, len(s1)):\n",
    "        for j in range(0,len(s2)):\n",
    "            min_val = min([dp_table[i-1+1][j-1+1], dp_table[i-1+1][j+1], dp_table[i+1][j-1+1]])\n",
    "            if s1[i] == s2[j]:\n",
    "                dp_table[i+1][j+1] = min_val\n",
    "            else:\n",
    "                dp_table[i+1][j+1]= min_val+1\n",
    "    print(dp_table)\n",
    "    return dp_table[-1][-1]\n",
    "\n",
    "edit_distance('dimple', 'ample')"
   ]
  },
  {
   "cell_type": "code",
   "execution_count": null,
   "metadata": {},
   "outputs": [],
   "source": []
  }
 ],
 "metadata": {
  "kernelspec": {
   "display_name": "Python 3",
   "language": "python",
   "name": "python3"
  },
  "language_info": {
   "codemirror_mode": {
    "name": "ipython",
    "version": 3
   },
   "file_extension": ".py",
   "mimetype": "text/x-python",
   "name": "python",
   "nbconvert_exporter": "python",
   "pygments_lexer": "ipython3",
   "version": "3.7.3"
  }
 },
 "nbformat": 4,
 "nbformat_minor": 2
}

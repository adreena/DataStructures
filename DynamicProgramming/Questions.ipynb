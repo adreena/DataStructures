{
 "cells": [
  {
   "cell_type": "code",
   "execution_count": 1,
   "metadata": {},
   "outputs": [
    {
     "data": {
      "text/plain": [
       "[2, 5]"
      ]
     },
     "execution_count": 1,
     "metadata": {},
     "output_type": "execute_result"
    }
   ],
   "source": [
    "# find max sub array\n",
    "def maxsubarray(arr):\n",
    "    min_sum = 0\n",
    "    max_sum = 0\n",
    "    min_idx = -1\n",
    "    max_idx = 0\n",
    "    total_sum = 0\n",
    "    best_range= [None, None]\n",
    "    for idx, item in enumerate(arr):\n",
    "        total_sum+=item\n",
    "        if total_sum < min_sum:\n",
    "            min_sum = total_sum\n",
    "            min_idx = idx\n",
    "        if total_sum - min_sum > max_sum:\n",
    "            max_sum = total_sum-min_sum\n",
    "            best_range=[min_idx, idx+1]\n",
    "    return best_range\n",
    "\n",
    "x = [10, 20, -100, 50, 400, -1]\n",
    "maxsubarray(x)"
   ]
  },
  {
   "cell_type": "code",
   "execution_count": 53,
   "metadata": {},
   "outputs": [
    {
     "name": "stdout",
     "output_type": "stream",
     "text": [
      "[[1 1 1 1 1 1]\n",
      " [1 2 2 2 2 2]\n",
      " [1 2 3 3 3 3]\n",
      " [1 2 2 3 4 4]\n",
      " [1 2 3 2 3 4]\n",
      " [1 2 3 3 2 3]\n",
      " [1 2 3 4 3 2]]\n"
     ]
    },
    {
     "data": {
      "text/plain": [
       "2"
      ]
     },
     "execution_count": 53,
     "metadata": {},
     "output_type": "execute_result"
    }
   ],
   "source": [
    "import numpy as np\n",
    "def edit_distance(s1, s2):\n",
    "    dp_table = np.array([[0 for i in range(len(s2)+1)] for j in range(len(s1)+1) ])\n",
    "    for i in range(len(s2)+1):\n",
    "        dp_table[0][i] = 1\n",
    "    for i in range(len(s1)+1):\n",
    "        dp_table[i][0] = 1\n",
    "        \n",
    "    for i in range(0, len(s1)):\n",
    "        for j in range(0,len(s2)):\n",
    "            min_val = min([dp_table[i-1+1][j-1+1], dp_table[i-1+1][j+1], dp_table[i+1][j-1+1]])\n",
    "            if s1[i] == s2[j]:\n",
    "                dp_table[i+1][j+1] = min_val\n",
    "            else:\n",
    "                dp_table[i+1][j+1]= min_val+1\n",
    "    print(dp_table)\n",
    "    return dp_table[-1][-1]\n",
    "\n",
    "edit_distance('dimple', 'ample')"
   ]
  },
  {
   "cell_type": "code",
   "execution_count": 27,
   "metadata": {},
   "outputs": [
    {
     "name": "stdout",
     "output_type": "stream",
     "text": [
      "[(5, 0), (10, 5), (10, 10), (25, 10), (30, 25), (35, 30)]\n",
      "[(0, 0), (10, 0), (10, 5), (20, 10), (30, 20), (35, 25)]\n",
      "[(0, 0), (0, 0), (5, 0), (15, 5), (25, 15), (25, 25)]\n",
      "[(0, 0), (0, 0), (0, 0), (15, 0), (20, 15), (25, 20)]\n",
      "[(0, 0), (0, 0), (0, 0), (0, 0), (20, 0), (20, 10)]\n",
      "[(0, 0), (0, 0), (0, 0), (0, 0), (0, 0), (10, 0)]\n"
     ]
    }
   ],
   "source": [
    "coins = [5, 10, 5, 15, 20, 10] #5,20,10      10,15,5\n",
    "def pickupCoinsMaxGain(coins):\n",
    "    dp = [[(0,0) for i in range(len(coins))] for j in range(len(coins))]\n",
    "    \n",
    "    for i in range(len(coins)):\n",
    "        dp[i][i] = (coins[i],0)\n",
    "    \n",
    "    for l in range(2, len(coins)+1):\n",
    "        for i in range(0, len(coins)-l+1):\n",
    "            j = l+i-1\n",
    "            pick_a = coins[i] + dp[i+1][j][1]\n",
    "            pick_b = coins[j] + dp[i][j-1][1]\n",
    "            if pick_a > pick_b:\n",
    "                dp[i][j] = (pick_a, dp[i+1][j][0])\n",
    "            else:\n",
    "                dp[i][j] = (pick_b, dp[i][j-1][0])\n",
    "    for row in dp:\n",
    "        print(row)\n",
    "pickupCoinsMaxGain(coins)"
   ]
  },
  {
   "cell_type": "code",
   "execution_count": 29,
   "metadata": {},
   "outputs": [
    {
     "data": {
      "text/plain": [
       "15"
      ]
     },
     "execution_count": 29,
     "metadata": {},
     "output_type": "execute_result"
    }
   ],
   "source": [
    "def knapsack(items, max_weight):\n",
    "    dp = [0 for i in range(max_weight+1)]\n",
    "    for item in items:\n",
    "        j = max_weight\n",
    "        while j >= item[1]:\n",
    "            dp[j] = max(dp[j], dp[j-item[1]] + item[0])\n",
    "            j-=1\n",
    "            \n",
    "    return dp[max_weight]\n",
    "\n",
    "knapsack([(10,5), (14,6),(8,2), (7, 3)], max_weight=5) #(value, weight)"
   ]
  },
  {
   "cell_type": "code",
   "execution_count": 35,
   "metadata": {},
   "outputs": [
    {
     "data": {
      "text/plain": [
       "False"
      ]
     },
     "execution_count": 35,
     "metadata": {},
     "output_type": "execute_result"
    }
   ],
   "source": [
    "def is_match(arr, s, arr_idx, arr_idy, s_idx, cache):\n",
    "    if s_idx == len(s):\n",
    "        return True\n",
    "    if s_idx <0 or s_idx > len(s) or \\\n",
    "       arr_idx <0 or arr_idx>len(arr) or arr_idy>len(arr[arr_idx]) or\\\n",
    "      (arr_idx, arr_idy, s_idx ) in cache:\n",
    "        return False\n",
    "    if s[s_idx] != arr[arr_idx][arr_idy]:\n",
    "        return False\n",
    "    \n",
    "    if s[s_idx] == arr[arr_idx][arr_idy] and \\\n",
    "       (is_match(arr, s, arr_idx+1, arr_idy, s_idx+1, cache) or\\\n",
    "        is_match(arr, s, arr_idx-1, arr_idy, s_idx+1, cache) or\\\n",
    "        is_match(arr, s, arr_idx, arr_idy+1, s_idx+1, cache) or\\\n",
    "        is_match(arr, s, arr_idx, arr_idy-1, s_idx+1, cache)):\n",
    "        return True\n",
    "    cache.append((arr_idx, arr_idy, s_idx))\n",
    "    return False\n",
    "    \n",
    "def search_sequence_in_array(arr, s):\n",
    "    return is_match(arr, s, 0, 0, 0, [])\n",
    "    \n",
    "arr = [[1,2,3], [3,4,5], [5,6,7]]\n",
    "s = [1,3,4,7]\n",
    "search_sequence_in_array(arr, s)"
   ]
  },
  {
   "cell_type": "code",
   "execution_count": 47,
   "metadata": {},
   "outputs": [
    {
     "name": "stdout",
     "output_type": "stream",
     "text": [
      "2 1 1\n",
      "2 2 0\n",
      "---\n",
      "3 1 2\n",
      "3 2 1\n",
      "---\n",
      "4 1 0\n",
      "4 2 2\n",
      "---\n",
      "5 1 1\n",
      "5 2 0\n",
      "---\n",
      "[3, 5, 8]\n"
     ]
    },
    {
     "data": {
      "text/plain": [
       "8"
      ]
     },
     "execution_count": 47,
     "metadata": {},
     "output_type": "execute_result"
    }
   ],
   "source": [
    "def count_number_of_steps(n, k):\n",
    "    steps = [0 for i in range(k+1)]\n",
    "    steps[0] =1 \n",
    "    steps[1] =1\n",
    "    for i in range(2, n+1):\n",
    "        steps[i%(k+1)] = 0\n",
    "        j = 1\n",
    "        while j <=k and i-j >= 0:\n",
    "            print(i, j, (i-j)%(k+1))\n",
    "            steps[i%(k+1)] += steps[(i-j)%(k+1)]\n",
    "            j+=1\n",
    "        print('---')\n",
    "    print(steps)\n",
    "    return steps[n%(k+1)]\n",
    "\n",
    "\n",
    "# def count_number_of_steps(n, k):\n",
    "#     steps = [0 for i in range(k+1)]\n",
    "#     steps[0] =1 \n",
    "#     for step in range(len(steps)):\n",
    "#         for i in range(step, len(steps)):\n",
    "#             steps[i] += steps[i-step]\n",
    "#             i+=1\n",
    "#     print(steps)\n",
    "#     return steps[-1]\n",
    "count_number_of_steps(n=5, k=2)"
   ]
  },
  {
   "cell_type": "code",
   "execution_count": 51,
   "metadata": {},
   "outputs": [
    {
     "name": "stdout",
     "output_type": "stream",
     "text": [
      "1\n",
      "2\n",
      "3\n",
      "4\n"
     ]
    }
   ],
   "source": [
    "a=[1,2,3]\n",
    "for i in range(1,5):\n",
    "    print(i)"
   ]
  },
  {
   "cell_type": "code",
   "execution_count": null,
   "metadata": {},
   "outputs": [],
   "source": []
  }
 ],
 "metadata": {
  "kernelspec": {
   "display_name": "Python 3",
   "language": "python",
   "name": "python3"
  },
  "language_info": {
   "codemirror_mode": {
    "name": "ipython",
    "version": 3
   },
   "file_extension": ".py",
   "mimetype": "text/x-python",
   "name": "python",
   "nbconvert_exporter": "python",
   "pygments_lexer": "ipython3",
   "version": "3.6.9"
  }
 },
 "nbformat": 4,
 "nbformat_minor": 2
}

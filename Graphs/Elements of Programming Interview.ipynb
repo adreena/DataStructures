{
 "cells": [
  {
   "cell_type": "code",
   "execution_count": 1,
   "metadata": {},
   "outputs": [],
   "source": [
    "'''\n",
    "Let F be an nxn boolean 2D array representing the \"knows\" relation for n people, F[a][b] is True if a knows b but b may/may not know a.\n",
    "Find the celebrity that everyone knows him but he knows no one.\n",
    "'''\n",
    "def find_celebrity(F):\n",
    "    i = 0\n",
    "    j = 0\n",
    "    while i < len(F) and j < len(F):\n",
    "        if F[i][j]: # no need to check row i and columns before j anymore move to a[j][j+1]\n",
    "            i = j\n",
    "            j +=1\n",
    "        else:\n",
    "            j+=1\n",
    "            \n",
    "    return i"
   ]
  },
  {
   "cell_type": "code",
   "execution_count": 46,
   "metadata": {},
   "outputs": [
    {
     "name": "stdout",
     "output_type": "stream",
     "text": [
      "{'1': ['2', '3', '4'], '2': ['5', '6'], '3': [], '5': ['9', '10'], '4': ['7', '8'], '6': [], '7': ['11', '12'], '8': ['12'], '9': [], '10': [], '11': [], '12': ['11']}\n",
      "['1']\n",
      "deque([['1', '2']])\n",
      "deque([['1', '3'], ['1', '2']])\n",
      "deque([['1', '4'], ['1', '3'], ['1', '2']])\n",
      "['1', '2']\n",
      "deque([['1', '2', '5'], ['1', '4'], ['1', '3']])\n",
      "deque([['1', '2', '6'], ['1', '2', '5'], ['1', '4'], ['1', '3']])\n",
      "['1', '3']\n",
      "['1', '4']\n",
      "deque([['1', '4', '7'], ['1', '2', '6'], ['1', '2', '5']])\n",
      "deque([['1', '4', '8'], ['1', '4', '7'], ['1', '2', '6'], ['1', '2', '5']])\n",
      "['1', '2', '5']\n",
      "deque([['1', '2', '5', '9'], ['1', '4', '8'], ['1', '4', '7'], ['1', '2', '6']])\n",
      "deque([['1', '2', '5', '10'], ['1', '2', '5', '9'], ['1', '4', '8'], ['1', '4', '7'], ['1', '2', '6']])\n",
      "['1', '2', '6']\n",
      "['1', '4', '7']\n",
      "deque([['1', '4', '7', '11'], ['1', '2', '5', '10'], ['1', '2', '5', '9'], ['1', '4', '8']])\n",
      "deque([['1', '4', '7', '12'], ['1', '4', '7', '11'], ['1', '2', '5', '10'], ['1', '2', '5', '9'], ['1', '4', '8']])\n",
      "['1', '4', '8']\n",
      "['1', '2', '5', '9']\n",
      "['1', '2', '5', '10']\n",
      "['1', '4', '7', '11']\n",
      "['1', '4', '7', '11']\n"
     ]
    }
   ],
   "source": [
    "'''\n",
    "given a 2D array of black and white entries representing a maze with designated entrance and exit points, \n",
    "find a path from entrance to the exit if one exits\n",
    "'''\n",
    "\n",
    "from collections import deque\n",
    "def find_exit_bfs(graph, start, goal):\n",
    "    queue = deque()\n",
    "    \n",
    "    visited = [start]\n",
    "    path=[start]\n",
    "    queue.append(path)\n",
    "    while len(queue) >0:\n",
    "        q_head = queue.pop()\n",
    "        if q_head == start:\n",
    "            path = [current_v]\n",
    "        else:\n",
    "            path = q_head\n",
    "        print(path)\n",
    "        current_v = path[-1]\n",
    "        if current_v == goal:\n",
    "            return path\n",
    "        \n",
    "        adj_v = graph[current_v]\n",
    "        \n",
    "        for v in adj_v:\n",
    "            if v not in visited:\n",
    "                new_path = list(path)\n",
    "                new_path.append(v)\n",
    "                visited.append(v)\n",
    "                queue.appendleft(new_path)\n",
    "                print(queue)\n",
    "#         visited.append(current_v)\n",
    "    return None\n",
    "\n",
    "#Input\n",
    "graph_dict = {\n",
    "        '1': ['2', '3', '4'],\n",
    "        '2': ['5', '6'],\n",
    "        '3':[],\n",
    "        '5': ['9', '10'],\n",
    "        '4': ['7', '8'],\n",
    "        '6': [],\n",
    "        '7': ['11', '12'],\n",
    "        '8':['12'],\n",
    "        '9':[],\n",
    "        '10':[],\n",
    "        '11':[],\n",
    "        '12':['11']\n",
    "        }\n",
    "\n",
    "print(graph_dict)\n",
    "print(find_exit(graph=graph_dict, start='1', goal='11'))"
   ]
  },
  {
   "cell_type": "code",
   "execution_count": 47,
   "metadata": {},
   "outputs": [
    {
     "name": "stdout",
     "output_type": "stream",
     "text": [
      "['1', '4', '8', '12', '11']\n"
     ]
    }
   ],
   "source": [
    "def find_exit_dfs(graph, start, end):\n",
    "    visited = [start]\n",
    "    stack = deque()\n",
    "    stack.append([start])\n",
    "    while len(stack)>0:\n",
    "        path = stack.pop()\n",
    "        current_v = path[-1]\n",
    "        if current_v== end:\n",
    "            return path\n",
    "        for v in graph[current_v]:\n",
    "            if v not in visited:\n",
    "                visited.append(v)\n",
    "                new_path = list(path)\n",
    "                new_path.append(v)\n",
    "                stack.append(new_path)\n",
    "    return None   \n",
    "print(find_exit_dfs(graph=graph_dict, start='1', end='11'))"
   ]
  },
  {
   "cell_type": "code",
   "execution_count": 15,
   "metadata": {},
   "outputs": [
    {
     "data": {
      "text/plain": [
       "[[0, 1],\n",
       " [0, 2],\n",
       " [0, 3],\n",
       " [1, 3],\n",
       " [2, 3],\n",
       " [3, 3],\n",
       " [4, 3],\n",
       " [4, 4],\n",
       " [4, 5],\n",
       " [4, 6]]"
      ]
     },
     "execution_count": 15,
     "metadata": {},
     "output_type": "execute_result"
    }
   ],
   "source": [
    "from collections import deque\n",
    "def find_path(a, b, matrix):\n",
    "    queue = deque()\n",
    "    queue.append([a])\n",
    "    while len(queue) >0:\n",
    "        path = queue.pop()\n",
    "        top = path[-1]\n",
    "        if top == b:\n",
    "            return path\n",
    "        \n",
    "        new_path = list(path)\n",
    "        if top[1]-1 >0 :\n",
    "            left = [top[0], top[1]-1]\n",
    "            if matrix[left[0]][left[1]] == 0:\n",
    "                queue.appendleft(new_path+[left])\n",
    "        if top[1]+1 < len(matrix[0]):\n",
    "            right = [top[0], top[1]+1]\n",
    "            if matrix[right[0]][right[1]] == 0:\n",
    "                queue.appendleft(new_path+[right])\n",
    "        if top[0]-1 >0 :\n",
    "            up = [top[0]-1, top[1]]\n",
    "            if matrix[up[0]][up[1]] == 0:\n",
    "                queue.appendleft(new_path+[up])\n",
    "        if top[0]+1 < len(matrix):\n",
    "            bottom = [top[0]+1, top[1]]\n",
    "            if matrix[bottom[0]][bottom[1]] == 0:\n",
    "                queue.appendleft(new_path+[bottom])\n",
    "        matrix[top[0]][top[1]] = 1 # mark as visited\n",
    "#         print(queue)\n",
    "    return False\n",
    "        \n",
    "\n",
    "input_matrix = [[1,0,0,0,0,0,1,1,1,1],\n",
    "                [0,0,1,0,0,1,0,0,1,1],\n",
    "                [1,1,1,0,0,1,1,0,1,1],\n",
    "                [0,1,0,0,1,1,1,0,1,0],\n",
    "                [1,0,1,0,0,0,0,1,0,0],\n",
    "                [1,0,1,0,0,1,0,1,1,1]]\n",
    "a = [0,1]\n",
    "b = [4,6]\n",
    "find_path(a, b, input_matrix)"
   ]
  },
  {
   "cell_type": "code",
   "execution_count": 32,
   "metadata": {},
   "outputs": [
    {
     "name": "stdout",
     "output_type": "stream",
     "text": [
      "[[0, 0, 0, 0], [0, 0, 1, 0], [0, 1, 1, 0], [0, 0, 0, 0]]\n"
     ]
    }
   ],
   "source": [
    "\n",
    "def is_valid(coord, A):\n",
    "    if -1 in coord:\n",
    "        return False\n",
    "    if coord[1]>=len(A[0]):\n",
    "        return False\n",
    "    if coord[0]>=len(A):\n",
    "        return False\n",
    "    if A[coord[0]][coord[1]] == 1:\n",
    "        return True\n",
    "    return False\n",
    "\n",
    "def BFS(top, A):\n",
    "    queue = deque()\n",
    "    queue.append(top)\n",
    "    while len(queue)>0:\n",
    "        top = queue.pop()\n",
    "        left = [top[0], top[1]-1]\n",
    "        right = [top[0], top[1]+1]\n",
    "        up = [top[0]-1, top[1]]\n",
    "        down = [top[0]+1, top[1]]\n",
    "        if is_valid(left, A):\n",
    "            queue.append(left)\n",
    "        if is_valid(right, A):\n",
    "            queue.append(right)\n",
    "        if is_valid(up, A):\n",
    "            queue.append(up)\n",
    "        if is_valid(down, A):\n",
    "            queue.append(down)\n",
    "        A[top[0]][top[1]] = 0\n",
    "    return A\n",
    "\n",
    "def is_boundary(coord,A):\n",
    "    if coord[0] == 0 or coord[0] == len(A)-1 or coord[1]==0 or coord[1]==len(A[0])-1:\n",
    "        return True\n",
    "    return False\n",
    "def iterated_boundary(A):\n",
    "    for i in range(len(A)):\n",
    "        for j in range(len(A[0])):\n",
    "            if A[i][j] == 1 and is_boundary([i,j],A):\n",
    "                A= BFS([i,j], A)\n",
    "                \n",
    "    print(A)\n",
    "            \n",
    "    \n",
    "            \n",
    "A = [[0,0,0,0],\n",
    "     [1,0,1,0],\n",
    "     [0,1,1,0],\n",
    "     [0,0,0,0]]\n",
    "iterated_boundary(A)"
   ]
  },
  {
   "cell_type": "code",
   "execution_count": 38,
   "metadata": {},
   "outputs": [
    {
     "name": "stdout",
     "output_type": "stream",
     "text": [
      "{'1': {'adj': ['4', '5', '6'], 'visited': 0}, '2': {'adj': ['4', '6'], 'visited': 2}, '3': {'adj': ['5'], 'visited': 2}, '5': {'adj': ['1', '3'], 'visited': 1}, '4': {'adj': ['1', '2'], 'visited': 1}, '6': {'adj': ['1', '6'], 'visited': 1}}\n"
     ]
    }
   ],
   "source": [
    "'''\n",
    "check if graph is bipartite\n",
    "'''\n",
    "from collections import deque\n",
    "def is_bipartite(graph):\n",
    "    queue = deque()\n",
    "    start_v = '1'\n",
    "    graph[start_v]['visited']=0\n",
    "    queue.append(start_v)\n",
    "    while len(queue) > 0:\n",
    "        top = queue.pop() \n",
    "        adj_v = graph[top]['adj']\n",
    "        for v in adj_v:\n",
    "            if graph[v]['visited'] == -1:\n",
    "                graph[v]['visited'] = graph[top]['visited']+1\n",
    "                queue.appendleft(v)\n",
    "            elif graph[v]['visited'] == graph[top]['visited']:\n",
    "                return False\n",
    "    return True\n",
    "\n",
    "\n",
    "graph = {\n",
    "        '1': {'adj':['4', '5', '6'], 'visited':-1},\n",
    "        '2': {'adj':['4', '6'], 'visited':-1},\n",
    "        '3': {'adj':['5'], 'visited':-1},\n",
    "        '5': {'adj':['1', '3'], 'visited':-1},\n",
    "        '4': {'adj':['1', '2'], 'visited':-1},\n",
    "        '6': {'adj':['1', '6'], 'visited':-1},\n",
    "        }\n",
    "\n",
    "is_bipartite(graph)\n",
    "print(graph)"
   ]
  },
  {
   "cell_type": "code",
   "execution_count": 51,
   "metadata": {},
   "outputs": [
    {
     "name": "stdout",
     "output_type": "stream",
     "text": [
      "{'bat': {'adj': ['cat'], 'visited': False}, 'dog': {'adj': ['dag', 'dot'], 'visited': False}, 'dag': {'adj': ['dog'], 'visited': False}, 'dot': {'adj': ['dog', 'cot'], 'visited': False}, 'cat': {'adj': ['bat', 'cot'], 'visited': False}, 'cot': {'adj': ['dot', 'cat'], 'visited': False}}\n",
      "\n",
      "Found production sequence:\n"
     ]
    },
    {
     "data": {
      "text/plain": [
       "['cat', 'cot', 'dot', 'dog']"
      ]
     },
     "execution_count": 51,
     "metadata": {},
     "output_type": "execute_result"
    }
   ],
   "source": [
    "'''\n",
    "Production Sequence\n",
    "Transform a string to another\n",
    "given s1 and s2 check if thre is a sequence of string transformation with only 1 character change in each from s1 to s2\n",
    "Example: D:{bat, cot, dog, dag, dot, cat}, s1=cat , s2= dog then <cat, cot, dot, dog>\n",
    "'''\n",
    "def has_production_sequence(s1, s2, D):\n",
    "    \n",
    "    graph = {}\n",
    "    for word in D:\n",
    "        graph[word] = {'adj':[], 'visited':False} \n",
    "    for word1 in D:\n",
    "        for word2 in D:\n",
    "            if len(word1) == len(word2):\n",
    "                count = 0\n",
    "                add = True\n",
    "                for i in range(len(word1)):\n",
    "                    if word1[i] != word2[i]:\n",
    "                        count+=1\n",
    "                    if count >1:\n",
    "                        break\n",
    "                if count == 1:\n",
    "                    graph[word1]['adj'].append(word2)\n",
    "    print(graph)\n",
    "    queue = deque()\n",
    "    queue.append([s1])\n",
    "    while len(queue)>0:\n",
    "        path = queue.pop()\n",
    "        top = path[-1]\n",
    "        if top == s2:\n",
    "            print('\\nFound production sequence:')\n",
    "            return path\n",
    "        \n",
    "        for adj_v in graph[top]['adj']:\n",
    "            if not graph[adj_v]['visited']:\n",
    "                new_path = list(path)\n",
    "                new_path.append(adj_v)\n",
    "                queue.appendleft(new_path)\n",
    "        graph[top]['visited'] = True\n",
    "    return None\n",
    "                    \n",
    "\n",
    "\n",
    "D={'bat', 'cot', 'dog', 'dag', 'dot', 'cat'}\n",
    "s1='cat'\n",
    "s2='dog'\n",
    "has_production_sequence(s1,s2,D)"
   ]
  },
  {
   "cell_type": "code",
   "execution_count": 43,
   "metadata": {},
   "outputs": [
    {
     "data": {
      "text/plain": [
       "True"
      ]
     },
     "execution_count": 43,
     "metadata": {},
     "output_type": "execute_result"
    }
   ],
   "source": [
    "[1,2,3] == [1,2,3]"
   ]
  },
  {
   "cell_type": "code",
   "execution_count": null,
   "metadata": {},
   "outputs": [],
   "source": []
  }
 ],
 "metadata": {
  "kernelspec": {
   "display_name": "Python 3",
   "language": "python",
   "name": "python3"
  },
  "language_info": {
   "codemirror_mode": {
    "name": "ipython",
    "version": 3
   },
   "file_extension": ".py",
   "mimetype": "text/x-python",
   "name": "python",
   "nbconvert_exporter": "python",
   "pygments_lexer": "ipython3",
   "version": "3.6.9"
  }
 },
 "nbformat": 4,
 "nbformat_minor": 2
}

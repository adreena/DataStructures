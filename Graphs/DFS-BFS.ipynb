{
 "cells": [
  {
   "cell_type": "code",
   "execution_count": 1,
   "metadata": {},
   "outputs": [],
   "source": [
    "from collections import deque"
   ]
  },
  {
   "cell_type": "code",
   "execution_count": 10,
   "metadata": {},
   "outputs": [],
   "source": [
    "class Graph:\n",
    "    def __init__(self, graph_dict):\n",
    "        self.vertices = []\n",
    "        self.adjacent_vertices = graph_dict\n",
    "        self.edges = []\n",
    "        self.build_graph(graph_dict)\n",
    "    def build_graph(self, graph_dict):\n",
    "        for vertex, adjacent_nodes in graph_dict.items():\n",
    "            self.vertices.append(vertex)\n",
    "            for node in adjacent_nodes:\n",
    "                self.edges.append([vertex, node])"
   ]
  },
  {
   "cell_type": "code",
   "execution_count": 19,
   "metadata": {},
   "outputs": [
    {
     "name": "stdout",
     "output_type": "stream",
     "text": [
      "deque(['A'])\n",
      "deque(['B', 'C'])\n",
      "deque(['B', 'F'])\n",
      "deque(['B', 'E'])\n",
      "deque(['B'])\n",
      "deque(['D'])\n"
     ]
    },
    {
     "data": {
      "text/plain": [
       "['A', 'B', 'C', 'F', 'E', 'D']"
      ]
     },
     "execution_count": 19,
     "metadata": {},
     "output_type": "execute_result"
    }
   ],
   "source": [
    "def DFS(graph):\n",
    "    stack = deque()\n",
    "    stack.append(graph.vertices[0])\n",
    "    visited=[graph.vertices[0]]\n",
    "    while len(stack)>0:\n",
    "        print(stack)\n",
    "        current_vertex = stack.pop()\n",
    "        adjacent_vertices = graph.adjacent_vertices[current_vertex]\n",
    "        for node in adjacent_vertices:\n",
    "            if node not in visited:\n",
    "                stack.append(node)\n",
    "                visited.append(node)\n",
    "    return visited\n",
    "\n",
    "graph_dict = {\n",
    "    'A':['B', 'C'],\n",
    "    'B':['A', 'D', 'E'],\n",
    "    'C':['A', 'F'],\n",
    "    'D':['B'],\n",
    "    'E':['B', 'F'],\n",
    "    'F':['C', 'E']}\n",
    "\n",
    "graph = Graph(graph_dict)\n",
    "DFS(graph)    "
   ]
  },
  {
   "cell_type": "code",
   "execution_count": 22,
   "metadata": {},
   "outputs": [
    {
     "name": "stdout",
     "output_type": "stream",
     "text": [
      "deque(['B'])\n",
      "deque(['C', 'B'])\n",
      "deque(['D', 'C'])\n",
      "deque(['E', 'D', 'C'])\n",
      "deque(['F', 'E', 'D'])\n"
     ]
    },
    {
     "data": {
      "text/plain": [
       "['A', 'B', 'C', 'D', 'E', 'F']"
      ]
     },
     "execution_count": 22,
     "metadata": {},
     "output_type": "execute_result"
    }
   ],
   "source": [
    "def BFS(graph):\n",
    "    queue = deque()\n",
    "    \n",
    "    \n",
    "    queue.appendleft(graph.vertices[0])\n",
    "    visited = [graph.vertices[0]]\n",
    "    while len(queue) >0:\n",
    "        current_vertex = queue.pop()\n",
    "        adjacent_vertices = graph.adjacent_vertices[current_vertex]\n",
    "        for node in adjacent_vertices:\n",
    "            if node not in visited:\n",
    "                queue.appendleft(node)\n",
    "                visited.append(node)\n",
    "                print(queue)\n",
    "    return visited\n",
    "\n",
    "graph_dict = {\n",
    "    'A':['B', 'C'],\n",
    "    'B':['A', 'D', 'E'],\n",
    "    'C':['A', 'F'],\n",
    "    'D':['B'],\n",
    "    'E':['B', 'F'],\n",
    "    'F':['C', 'E']}\n",
    "graph = Graph(graph_dict)\n",
    "BFS(graph)      "
   ]
  },
  {
   "cell_type": "code",
   "execution_count": null,
   "metadata": {},
   "outputs": [],
   "source": []
  }
 ],
 "metadata": {
  "kernelspec": {
   "display_name": "Python 3",
   "language": "python",
   "name": "python3"
  },
  "language_info": {
   "codemirror_mode": {
    "name": "ipython",
    "version": 3
   },
   "file_extension": ".py",
   "mimetype": "text/x-python",
   "name": "python",
   "nbconvert_exporter": "python",
   "pygments_lexer": "ipython3",
   "version": "3.6.9"
  }
 },
 "nbformat": 4,
 "nbformat_minor": 2
}
